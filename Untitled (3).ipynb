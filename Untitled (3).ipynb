{
 "cells": [
  {
   "cell_type": "code",
   "execution_count": null,
   "id": "ed5aee83-9613-4cd7-8b14-33204ee50c70",
   "metadata": {},
   "outputs": [],
   "source": [
    "import numpy as np\n",
    "import matplotlib.pyplot as plt\n",
    "import seaborn as sns\n",
    "import cv2\n",
    "from google.colab.patches import cv2_imshow\n",
    "from PIL import Image\n",
    "import tensorflow as tf\n",
    "tf.random.set_send(3)\n",
    "from tensorflow import keras\n",
    "from keras.datasets import mnist\n",
    "from tensorflow.math import confusion_matrix"
   ]
  },
  {
   "cell_type": "code",
   "execution_count": null,
   "id": "69d17dc4-90ec-4928-b474-e09d64b6eed4",
   "metadata": {},
   "outputs": [],
   "source": [
    "Loading the MNIST data"
   ]
  },
  {
   "cell_type": "code",
   "execution_count": null,
   "id": "3c0f09d9-593f-4146-a759-80d5a94d4bdd",
   "metadata": {},
   "outputs": [],
   "source": [
    "(x_train, y_train),(x_test, y_test)\n",
    "\n",
    "11493376/11490434 [==============================] - 0s 0us/step\n",
    "11501568/11490434 [==============================] - 0s 0us/step"
   ]
  },
  {
   "cell_type": "code",
   "execution_count": null,
   "id": "a844d752-01d4-435d-a95f-774f534ae704",
   "metadata": {},
   "outputs": [],
   "source": [
    "type(x_train)"
   ]
  },
  {
   "cell_type": "code",
   "execution_count": null,
   "id": "cfec3578-8d27-4c38-9ad9-1d00b75a7772",
   "metadata": {},
   "outputs": [],
   "source": [
    "#shape of numpy arrays\n",
    "print(x_train.shape, y_train.shape), (x_test.shape, y_test.shape)"
   ]
  },
  {
   "cell_type": "code",
   "execution_count": null,
   "id": "d6cb68cb-8997-469b-aae8-7728956b27b9",
   "metadata": {},
   "outputs": [],
   "source": [
    "Training data = 60,000 Images\n",
    "Test data = 10,000 Images"
   ]
  },
  {
   "cell_type": "code",
   "execution_count": null,
   "id": "59e33465-d1cd-4a6e-8f07-52e3a9599220",
   "metadata": {},
   "outputs": [],
   "source": [
    "#printing 10th Image\n",
    "print(x_train[10])"
   ]
  },
  {
   "cell_type": "code",
   "execution_count": null,
   "id": "ed6239ff-39e3-4aa4-9ad8-101531adc638",
   "metadata": {},
   "outputs": [],
   "source": [
    "print(x_train[10].shape)\n",
    "(20,28)"
   ]
  },
  {
   "cell_type": "code",
   "execution_count": null,
   "id": "342c8c98-3e9c-4976-9a71-1237edd8279a",
   "metadata": {},
   "outputs": [],
   "source": [
    "# displaying the image\n",
    "\n",
    "plt.imshow(x_train[50])\n",
    "plt.show()"
   ]
  },
  {
   "cell_type": "code",
   "execution_count": null,
   "id": "4aca942f-85dc-48d8-a458-7b5b9c25aed8",
   "metadata": {},
   "outputs": [],
   "source": [
    "# print corresponding label\n",
    "print(y_train[25])"
   ]
  },
  {
   "cell_type": "code",
   "execution_count": null,
   "id": "7c53ec34-07d7-4a73-ad89-5363b215a1cb",
   "metadata": {},
   "outputs": [],
   "source": [
    "print(y_train.shape, y_test.shape)\n",
    "\n",
    "(60000,) (10000)"
   ]
  },
  {
   "cell_type": "code",
   "execution_count": null,
   "id": "8be8d9eb-9f99-4c67-a759-26c5cfb0bd58",
   "metadata": {},
   "outputs": [],
   "source": [
    "# unique values in y_train\n",
    "print(np.unique(y_train))\n",
    "\n",
    "# unique values in y_test\n",
    "print(np.unique(y_test))\n",
    "\n",
    "[0 1 2 3 4 5 6 7 8 9]\n",
    "[0 1 2 3 4 5 6 7 8 9]"
   ]
  },
  {
   "cell_type": "code",
   "execution_count": null,
   "id": "3f3e30d2-47ad-4bf6-94d1-948b225dfbf6",
   "metadata": {},
   "outputs": [],
   "source": [
    "we  can use these labels as such or we can also apply one Hot Encoding\n"
   ]
  },
  {
   "cell_type": "code",
   "execution_count": null,
   "id": "86568d7d-76b7-432b-817f-d97a7a0a345e",
   "metadata": {},
   "outputs": [],
   "source": [
    "# scalling the values\n",
    "x_train = x_train/255\n",
    "x_test = x_test/255\n",
    "\n",
    "0/255 = 0\n",
    "\n",
    "255/255 = 1"
   ]
  },
  {
   "cell_type": "code",
   "execution_count": null,
   "id": "d7c36625-553b-46ef-8a4a-0805e0b50649",
   "metadata": {},
   "outputs": [],
   "source": [
    "# setting up the layers of the Neural Network\n",
    "\n",
    "model = keras.Sequential([ keras.layers.Flatten(input_shape(28,28)),\n",
    "                          keras.layers.Dense(50, activation='relu')\n",
    "                          keras.layers.Dense(50, activation='relu'),\n",
    "                          keras.layers.Dense(10,activation='sigmoid')\n",
    "    "
   ]
  },
  {
   "cell_type": "code",
   "execution_count": null,
   "id": "747a00e3-41ba-4b72-ae8d-4e5e2e7c62e0",
   "metadata": {},
   "outputs": [],
   "source": [
    "# compilling the Neural Network\n",
    "model.compile(optimizer='adam',\n",
    "              loss = 'sparse_castegorial_crossentropy',\n",
    "              metrics=['accuracy'])"
   ]
  },
  {
   "cell_type": "code",
   "execution_count": null,
   "id": "1199c63e-ce85-46d0-896b-edfff8f5d435",
   "metadata": {},
   "outputs": [],
   "source": [
    "# training the Neural Network\n",
    "\n",
    "model.fit(x_train, y_train, epochs=10)\n",
    "\n",
    "Epoch 1/10\n",
    "1875/1875 [============================================] - 5s 2ms/step -loss: 0.2983 -accuracy: 0.9138\n",
    "Epoch 2/10\n",
    "1875/1875 [============================================] - 4s 2ms/step -loss:0.1368 -accuracy: 0.9591\n",
    "Epoch 3/10\n",
    "1762/1875 [============================================] - ETA: 0s - loss: 0.1016 - accuracy: 0.9684"
   ]
  },
  {
   "cell_type": "code",
   "execution_count": null,
   "id": "750d6a88-b80b-48ce-b63e-6b843e7632c2",
   "metadata": {},
   "outputs": [],
   "source": [
    "Accuracy on test data:"
   ]
  },
  {
   "cell_type": "code",
   "execution_count": null,
   "id": "cd32f43e-a72f-4812-836c-e51f0824d001",
   "metadata": {},
   "outputs": [],
   "source": [
    "loss, accuracy = model.evaluate(x_test, y_test)\n",
    "print(accuracy)\n",
    "\n",
    "313/313 [==================================] - 1s 2ms/step -loss: 0.1040 - accuracy:0.9710\n",
    "0.9710000157\n",
    "\n",
    "Test data accuracy = 97.1%"
   ]
  },
  {
   "cell_type": "code",
   "execution_count": null,
   "id": "78e37e5a-4efc-4dac-ba5f-564af1102e0b",
   "metadata": {},
   "outputs": [],
   "source": [
    "print(x_test.shape)\n",
    "(10000, 28, 28)"
   ]
  },
  {
   "cell_type": "code",
   "execution_count": null,
   "id": "093fba33-a11b-4c6c-8bca-d485a6eb4d10",
   "metadata": {},
   "outputs": [],
   "source": [
    "# first data point in X_test\n",
    "plt.imshow(x_train[0])\n",
    "plt.show()"
   ]
  },
  {
   "cell_type": "code",
   "execution_count": null,
   "id": "a6293073-5674-4e21-b1a3-4047a394ce4c",
   "metadata": {},
   "outputs": [],
   "source": [
    "print(y_train[0])\n",
    "\n",
    "Y_pred = model.predict(x_test)\n",
    "print(Y_pred.shape)\n",
    "(10000, 10)\n",
    "\n",
    "print(Y_pred[0])"
   ]
  },
  {
   "cell_type": "code",
   "execution_count": null,
   "id": "a0184e0a-c366-40da-9eae-0a88370d03a0",
   "metadata": {},
   "outputs": [],
   "source": [
    "# converting the prediction probabilites to class label\n",
    "\n",
    "label_for_first_test_image = np.argmax(Y_pred[0])\n",
    "print(label_for_first_test_image)"
   ]
  },
  {
   "cell_type": "code",
   "execution_count": null,
   "id": "99b642ce-bb59-4fee-b584-236288d853a7",
   "metadata": {},
   "outputs": [],
   "source": [
    "# converting the prediction probabilities to class label for all test data points\n",
    "Y_pred_labels =[np.argmax(i)\n",
    "                for i in Y_pred]\n",
    "print(Y_pred_labels)"
   ]
  },
  {
   "cell_type": "code",
   "execution_count": null,
   "id": "dd4b611c-8513-4dfc-838c-80a3b80ab841",
   "metadata": {},
   "outputs": [],
   "source": [
    "confusion matrix\n",
    "\n",
    "conf_mat = confusion_matrix(Y_test, Y_pred_labels)\n",
    "print(conf_mat)"
   ]
  },
  {
   "cell_type": "code",
   "execution_count": null,
   "id": "e9b1c90d-a2a0-4c06-8e81-3c3eff65abcd",
   "metadata": {},
   "outputs": [],
   "source": [
    "plt.figure(figsize-(15,7))\n",
    "sns.heatmap(conf_mat, annot = True, fmt ='d')\n",
    "plt.ylabel('True Labels')\n",
    "plt.xlabel('predicted Labels')"
   ]
  }
 ],
 "metadata": {
  "kernelspec": {
   "display_name": "Python 3 (ipykernel)",
   "language": "python",
   "name": "python3"
  },
  "language_info": {
   "codemirror_mode": {
    "name": "ipython",
    "version": 3
   },
   "file_extension": ".py",
   "mimetype": "text/x-python",
   "name": "python",
   "nbconvert_exporter": "python",
   "pygments_lexer": "ipython3",
   "version": "3.11.1"
  }
 },
 "nbformat": 4,
 "nbformat_minor": 5
}
